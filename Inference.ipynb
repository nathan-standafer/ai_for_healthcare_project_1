{
 "cells": [
  {
   "cell_type": "code",
   "execution_count": 1,
   "metadata": {},
   "outputs": [
    {
     "name": "stderr",
     "output_type": "stream",
     "text": [
      "Using TensorFlow backend.\n"
     ]
    }
   ],
   "source": [
    "import numpy as np\n",
    "import pandas as pd\n",
    "import pydicom\n",
    "%matplotlib inline\n",
    "import matplotlib.pyplot as plt\n",
    "import keras "
   ]
  },
  {
   "cell_type": "code",
   "execution_count": 2,
   "metadata": {},
   "outputs": [],
   "source": [
    "from skimage.transform import rescale, resize\n",
    "from skimage import color\n",
    "\n",
    "# This function reads in a .dcm file, checks the important fields for our device, and returns a numpy array\n",
    "# of just the imaging data\n",
    "def check_dicom(filename): \n",
    "    # todo\n",
    "    \n",
    "    print('Load file {} ...'.format(filename))\n",
    "    ds = pydicom.dcmread(filename)       \n",
    "    img = ds.pixel_array\n",
    "    return img\n",
    "    \n",
    "    \n",
    "# This function takes the numpy array output by check_dicom and \n",
    "# runs the appropriate pre-processing needed for our model input\n",
    "def preprocess_image(img, img_mean, img_std, img_size): \n",
    "    # todo\n",
    "    #set the desired mean\n",
    "    \n",
    "    proc_img = resize(img, img_size)\n",
    "    \n",
    "    proc_img = proc_img + np.mean(proc_img) + img_mean\n",
    "    \n",
    "    #apply the standard deviation\n",
    "    proc_img = proc_img*img_std/np.std(proc_img)\n",
    "    \n",
    "    return proc_img\n",
    "\n",
    "# This function loads in our trained model w/ weights and compiles it \n",
    "def load_model(model_path, weight_path):\n",
    "    # todo\n",
    "    \n",
    "    my_model = keras.models.load_model(model_path)\n",
    "    my_model.load_weights(weight_path)\n",
    "    \n",
    "    return model\n",
    "\n",
    "# This function uses our device's threshold parameters to predict whether or not\n",
    "# the image shows the presence of pneumonia using our trained model\n",
    "def predict_image(model, img, thresh): \n",
    "    # todo    \n",
    "    print(img.shape)\n",
    "\n",
    "    pred_Y = my_model.predict(img, batch_size = 1, verbose = True)\n",
    "    \n",
    "    if (pred_Y >= thresh):\n",
    "        prediction = \"pneumonia positive\"\n",
    "    else:\n",
    "        prediction = \"negative\"\n",
    "    \n",
    "    print(\"modle returned {}, so returning '{}'\".format(pred_Y, prediction))\n",
    "    \n",
    "    return prediction "
   ]
  },
  {
   "cell_type": "code",
   "execution_count": 3,
   "metadata": {},
   "outputs": [
    {
     "name": "stdout",
     "output_type": "stream",
     "text": [
      "Load file test1.dcm ...\n",
      "(1, 224, 224, 3)\n",
      "1/1 [==============================] - 5s 5s/step\n",
      "modle returned [[0.84381443]], so returning 'pneumonia positive'\n",
      "pneumonia positive\n",
      "Load file test2.dcm ...\n",
      "(1, 224, 224, 3)\n",
      "1/1 [==============================] - 0s 18ms/step\n",
      "modle returned [[0.80838066]], so returning 'pneumonia positive'\n",
      "pneumonia positive\n",
      "Load file test3.dcm ...\n",
      "(1, 224, 224, 3)\n",
      "1/1 [==============================] - 0s 17ms/step\n",
      "modle returned [[0.7454008]], so returning 'pneumonia positive'\n",
      "pneumonia positive\n",
      "Load file test4.dcm ...\n",
      "(1, 224, 224, 3)\n",
      "1/1 [==============================] - 0s 17ms/step\n",
      "modle returned [[0.84381443]], so returning 'pneumonia positive'\n",
      "pneumonia positive\n",
      "Load file test5.dcm ...\n",
      "(1, 224, 224, 3)\n",
      "1/1 [==============================] - 0s 17ms/step\n",
      "modle returned [[0.84381443]], so returning 'pneumonia positive'\n",
      "pneumonia positive\n",
      "Load file test6.dcm ...\n",
      "(1, 224, 224, 3)\n",
      "1/1 [==============================] - 0s 16ms/step\n",
      "modle returned [[0.84381443]], so returning 'pneumonia positive'\n",
      "pneumonia positive\n"
     ]
    }
   ],
   "source": [
    "test_dicoms = ['test1.dcm','test2.dcm','test3.dcm','test4.dcm','test5.dcm','test6.dcm']\n",
    "\n",
    "model_path = 'xray_model.hdf5'\n",
    "weight_path = 'weights'\n",
    "\n",
    "IMG_SIZE=(1,224,224,3) # This might be different if you did not use vgg16\n",
    "img_mean = 0 # loads the mean image value they used during training preprocessing\n",
    "img_std = 1 # loads the std dev image value they used during training preprocessing\n",
    "\n",
    "my_model = keras.models.load_model(model_path)\n",
    "my_model.load_weights(weight_path)\n",
    "#pred_Y = my_model.predict(valX, batch_size = 32, verbose = True)\n",
    "\n",
    "thresh = 0.40 #loads the threshold they chose for model classification \n",
    "\n",
    "# use the .dcm files to test your prediction\n",
    "for i in test_dicoms:\n",
    "    \n",
    "    img = np.array([])\n",
    "    img = check_dicom(i)\n",
    "    \n",
    "    if img is None:\n",
    "        continue\n",
    "        \n",
    "    img_proc = preprocess_image(img, img_mean, img_std, IMG_SIZE)\n",
    "    pred = predict_image(my_model, img_proc, thresh)\n",
    "    print(pred)"
   ]
  },
  {
   "cell_type": "code",
   "execution_count": null,
   "metadata": {},
   "outputs": [],
   "source": []
  }
 ],
 "metadata": {
  "kernelspec": {
   "display_name": "Python 3",
   "language": "python",
   "name": "python3"
  },
  "language_info": {
   "codemirror_mode": {
    "name": "ipython",
    "version": 3
   },
   "file_extension": ".py",
   "mimetype": "text/x-python",
   "name": "python",
   "nbconvert_exporter": "python",
   "pygments_lexer": "ipython3",
   "version": "3.7.6"
  }
 },
 "nbformat": 4,
 "nbformat_minor": 2
}
